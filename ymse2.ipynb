{
 "cells": [
  {
   "cell_type": "code",
   "execution_count": null,
   "metadata": {},
   "outputs": [],
   "source": [
    "# conda create --name Env_VectoRaster"
   ]
  },
  {
   "cell_type": "code",
   "execution_count": null,
   "metadata": {},
   "outputs": [],
   "source": [
    "#conda create -n envFjell\n",
    "#conda activate envFjell\n",
    "#conda config --env --add channels conda-forge\n",
    "#conda config --env --set channel_priority strict\n",
    "#conda install geopandas\n",
    "##conda install pyogrio # følger med geopandas\n",
    "#conda install fiona\n",
    "#conda install rasterio\n",
    "# conda install pyarrow"
   ]
  },
  {
   "cell_type": "code",
   "execution_count": 7,
   "metadata": {},
   "outputs": [],
   "source": [
    "import geopandas as gpd\n",
    "import pyogrio\n",
    "import fiona\n",
    "import rasterio as rio\n",
    "import numpy as np \n",
    "# import pyarrow\n",
    "# pyarrow fungerer ikke i min conda env\n",
    "import os"
   ]
  },
  {
   "cell_type": "code",
   "execution_count": 242,
   "metadata": {},
   "outputs": [],
   "source": [
    "import pandas as pd\n",
    "arter = pd.read_excel(\"C:/data/Artsliste_Naturtyper_fra_ADB_20220629_vers2.xlsx\", sheet_name=\"Artslister_NiN\")"
   ]
  },
  {
   "cell_type": "code",
   "execution_count": 243,
   "metadata": {},
   "outputs": [],
   "source": [
    "#\n",
    "# Fjern de som mangler kategori\n",
    "arter = arter[~arter[\"Kategori\"].isna()]\n",
    "# Behold de som er relevant mtp kalkgradienten\n",
    "arter = arter[arter[\"Kategori\"].str.contains(\"KA\")]\n",
    "# Behold den som er kjennetegnede for skille og tyndepunktsgradient\n",
    "arter = arter[arter[\"Kategori\"].str.contains(\"s|t¤\")]\n",
    "# Function to find \"KA\" and extract the part 2-4 positions behind it\n",
    "def extract_behind_ka(s, find = \"KA\", pos1=3, pos2=6):\n",
    "    kid = s.find(find)\n",
    "    return s[(kid+pos1):(kid+pos2)]\n",
    "    #else:\n",
    "    #    return None\n",
    "# Apply the function to the 'Kategori' column\n",
    "arter['KA_Skille'] = arter['Kategori'].apply(extract_behind_ka, find = \"KA\", pos1 = 3, pos2 = 6)\n",
    "arter['KA_Skillestyrke'] = arter['Kategori'].apply(extract_behind_ka, find = \"KA\", pos1 = -3, pos2 = -1)\n",
    "arter['KA_Skilletrinn']=arter['KA_Skille'].apply(lambda x: x[0])\n",
    "\n",
    "#t¤"
   ]
  },
  {
   "cell_type": "code",
   "execution_count": 244,
   "metadata": {},
   "outputs": [
    {
     "data": {
      "text/html": [
       "<div>\n",
       "<style scoped>\n",
       "    .dataframe tbody tr th:only-of-type {\n",
       "        vertical-align: middle;\n",
       "    }\n",
       "\n",
       "    .dataframe tbody tr th {\n",
       "        vertical-align: top;\n",
       "    }\n",
       "\n",
       "    .dataframe thead th {\n",
       "        text-align: right;\n",
       "    }\n",
       "</style>\n",
       "<table border=\"1\" class=\"dataframe\">\n",
       "  <thead>\n",
       "    <tr style=\"text-align: right;\">\n",
       "      <th></th>\n",
       "      <th>Populærnavn</th>\n",
       "      <th>VitNavn</th>\n",
       "      <th>KA_Skille</th>\n",
       "      <th>KA_Skilletrinn</th>\n",
       "      <th>KA_Skillestyrke</th>\n",
       "    </tr>\n",
       "  </thead>\n",
       "  <tbody>\n",
       "    <tr>\n",
       "      <th>0</th>\n",
       "      <td>Granmose</td>\n",
       "      <td>Abietinella abietina</td>\n",
       "      <td>h|g</td>\n",
       "      <td>h</td>\n",
       "      <td>s-</td>\n",
       "    </tr>\n",
       "    <tr>\n",
       "      <th>6</th>\n",
       "      <td>Granmose</td>\n",
       "      <td>Abietinella abietina</td>\n",
       "      <td>g|f</td>\n",
       "      <td>g</td>\n",
       "      <td>s-</td>\n",
       "    </tr>\n",
       "    <tr>\n",
       "      <th>7</th>\n",
       "      <td>Granmose</td>\n",
       "      <td>Abietinella abietina</td>\n",
       "      <td>f|e</td>\n",
       "      <td>f</td>\n",
       "      <td>s*</td>\n",
       "    </tr>\n",
       "    <tr>\n",
       "      <th>19</th>\n",
       "      <td>Granmose</td>\n",
       "      <td>Abietinella abietina</td>\n",
       "      <td>h|g</td>\n",
       "      <td>h</td>\n",
       "      <td>s*</td>\n",
       "    </tr>\n",
       "    <tr>\n",
       "      <th>26</th>\n",
       "      <td>Ryllik</td>\n",
       "      <td>Achillea millefolium</td>\n",
       "      <td>d|c</td>\n",
       "      <td>d</td>\n",
       "      <td>s+</td>\n",
       "    </tr>\n",
       "    <tr>\n",
       "      <th>...</th>\n",
       "      <td>...</td>\n",
       "      <td>...</td>\n",
       "      <td>...</td>\n",
       "      <td>...</td>\n",
       "      <td>...</td>\n",
       "    </tr>\n",
       "    <tr>\n",
       "      <th>6870</th>\n",
       "      <td>Engtjæreblom</td>\n",
       "      <td>Viscaria vulgaris</td>\n",
       "      <td>d|c</td>\n",
       "      <td>d</td>\n",
       "      <td>s+</td>\n",
       "    </tr>\n",
       "    <tr>\n",
       "      <th>6882</th>\n",
       "      <td>Vassnøkkemose</td>\n",
       "      <td>Warnstorfia fluitans</td>\n",
       "      <td>d|e</td>\n",
       "      <td>d</td>\n",
       "      <td>s-</td>\n",
       "    </tr>\n",
       "    <tr>\n",
       "      <th>6883</th>\n",
       "      <td>Vassnøkkemose</td>\n",
       "      <td>Warnstorfia fluitans</td>\n",
       "      <td>d|e</td>\n",
       "      <td>d</td>\n",
       "      <td>s+</td>\n",
       "    </tr>\n",
       "    <tr>\n",
       "      <th>6884</th>\n",
       "      <td>Tannkrusmose</td>\n",
       "      <td>Weissia controversa</td>\n",
       "      <td>g|f</td>\n",
       "      <td>g</td>\n",
       "      <td>s+</td>\n",
       "    </tr>\n",
       "    <tr>\n",
       "      <th>6890</th>\n",
       "      <td>Gul steinlav</td>\n",
       "      <td>Xanthoparmelia stenophylla</td>\n",
       "      <td>e|d</td>\n",
       "      <td>e</td>\n",
       "      <td>s-</td>\n",
       "    </tr>\n",
       "  </tbody>\n",
       "</table>\n",
       "<p>1062 rows × 5 columns</p>\n",
       "</div>"
      ],
      "text/plain": [
       "        Populærnavn                     VitNavn KA_Skille KA_Skilletrinn  \\\n",
       "0          Granmose        Abietinella abietina       h|g              h   \n",
       "6          Granmose        Abietinella abietina       g|f              g   \n",
       "7          Granmose        Abietinella abietina       f|e              f   \n",
       "19         Granmose        Abietinella abietina       h|g              h   \n",
       "26           Ryllik        Achillea millefolium       d|c              d   \n",
       "...             ...                         ...       ...            ...   \n",
       "6870   Engtjæreblom           Viscaria vulgaris       d|c              d   \n",
       "6882  Vassnøkkemose        Warnstorfia fluitans       d|e              d   \n",
       "6883  Vassnøkkemose        Warnstorfia fluitans       d|e              d   \n",
       "6884   Tannkrusmose         Weissia controversa       g|f              g   \n",
       "6890   Gul steinlav  Xanthoparmelia stenophylla       e|d              e   \n",
       "\n",
       "     KA_Skillestyrke  \n",
       "0                 s-  \n",
       "6                 s-  \n",
       "7                 s*  \n",
       "19                s*  \n",
       "26                s+  \n",
       "...              ...  \n",
       "6870              s+  \n",
       "6882              s-  \n",
       "6883              s+  \n",
       "6884              s+  \n",
       "6890              s-  \n",
       "\n",
       "[1062 rows x 5 columns]"
      ]
     },
     "execution_count": 244,
     "metadata": {},
     "output_type": "execute_result"
    }
   ],
   "source": [
    "#arter[['Populærnavn', \"VitNavn\",\"KE\",\"KE_kode\",  \"KA_Trinn\", \"KA_Styrke\"]].drop_duplicates()\n",
    "\n",
    "arter[['Populærnavn', \"VitNavn\",'KA_Skille',  \"KA_Skilletrinn\", \"KA_Skillestyrke\"]].drop_duplicates()"
   ]
  },
  {
   "cell_type": "code",
   "execution_count": 245,
   "metadata": {},
   "outputs": [],
   "source": [
    "# Beholder bare de som er skille mellom hovedtrinn langs gradienten, Utelat de som er skiller innad i gradienten\n",
    "# arter = arter[~arter['KA_Skilletrinn'].str.contains(\"e|h\")]\n",
    "#arter[arter[\"KA_Skille\t\"].str.contains(\"g\")] & arter[arter[\"KA_Skille\"].str.contains(\"h\")]"
   ]
  },
  {
   "cell_type": "code",
   "execution_count": 246,
   "metadata": {},
   "outputs": [],
   "source": [
    "# Fjern det som ikke er på artsnivå\n",
    "arter = arter[arter[\"VitNavn\"].apply(lambda x: \" \" in x)]\n",
    "#arter = arter[]\n",
    "utvalg = arter[arter['KA_Skillestyrke']!=\"s-\"][\"VitNavn\"].drop_duplicates()\n"
   ]
  },
  {
   "cell_type": "code",
   "execution_count": 253,
   "metadata": {},
   "outputs": [
    {
     "data": {
      "text/plain": [
       "50     Aconitum septentrionale\n",
       "103         Agrostis mertensii\n",
       "Name: VitNavn, dtype: object"
      ]
     },
     "execution_count": 253,
     "metadata": {},
     "output_type": "execute_result"
    }
   ],
   "source": [
    "utvalg[2:4]\n",
    "#utvalg[0:4]"
   ]
  },
  {
   "cell_type": "code",
   "execution_count": 297,
   "metadata": {},
   "outputs": [
    {
     "name": "stderr",
     "output_type": "stream",
     "text": [
      "C:\\Users\\endre\\AppData\\Local\\Temp\\ipykernel_20860\\3226269279.py:2: DeprecationWarning: DataFrameGroupBy.apply operated on the grouping columns. This behavior is deprecated, and in a future version of pandas the grouping columns will be excluded from the operation. Either pass `include_groups=False` to exclude the groupings or explicitly select the grouping columns after groupby to silence this warning.\n",
      "  utvalg = arter.groupby('KA_Skillestyrke').apply(lambda x: x.sample(n=1)).reset_index(drop=True)[\"VitNavn\"]\n"
     ]
    }
   ],
   "source": [
    "# Use groupby and sample to get one row per group\n",
    "utvalg = arter.groupby('KA_Skillestyrke').apply(lambda x: x.sample(n=1)).reset_index(drop=True)[\"VitNavn\"]"
   ]
  },
  {
   "cell_type": "markdown",
   "metadata": {},
   "source": [
    "# GBIF"
   ]
  },
  {
   "cell_type": "code",
   "execution_count": 313,
   "metadata": {},
   "outputs": [],
   "source": [
    "# set up request function\n",
    "import requests\n",
    "import pandas as pd\n",
    "base_url = \"https://api.gbif.org/v1/occurrence/search?\"\n",
    "countryCode = \"NO\"\n",
    "def get_GBIF_response(base_url, offset, params, df, maxCount = None, i = None):\n",
    "    \"\"\"Performs an API call to the base URL with additional parameters listed in 'params'. Concatenates response to a Pandas DataFrame, 'df'.\"\"\"\n",
    "    \n",
    "    #Construct the query URL\n",
    "    query = base_url+'&'+f'offset={offset}'\n",
    "    for each in params:\n",
    "        query = query+'&'+each\n",
    "            \n",
    "    #Call API\n",
    "    #print(query)\n",
    "    response = requests.get(query)\n",
    "    \n",
    "    #If call is successful, add data to df\n",
    "    if response.status_code != 200:\n",
    "        print(f\"API call failed at offset {offset} with a status code of {response.status_code}.\")\n",
    "    else:\n",
    "        result = response.json()\n",
    "        df2 = pd.DataFrame.from_dict(result['results'])\n",
    "        if i is not None:\n",
    "            df2['query'] = i\n",
    "        df_concat = pd.concat([df, df2], axis = 0, ignore_index = True, sort = True)\n",
    "        endOfRecords = result['endOfRecords']\n",
    "        return df_concat, endOfRecords, response.status_code\n",
    "#set parameters for API call\n",
    "params0 = ['limit=100', 'publishingCountry=NO','hasGeospatialIssue=false', 'hasCoordinate=true','year=2010,2025','coordinateUncertaintyInMeters=0,250', 'county=Trøndelag']"
   ]
  },
  {
   "cell_type": "code",
   "execution_count": null,
   "metadata": {},
   "outputs": [],
   "source": [
    "# https://api.gbif.org/v1/occurrence/search?scientificName=Herminium%20monorchis&publishingCountry=NO&hasCoordinate=true&hasGeospatialIssue=false"
   ]
  },
  {
   "cell_type": "code",
   "execution_count": 315,
   "metadata": {},
   "outputs": [
    {
     "name": "stdout",
     "output_type": "stream",
     "text": [
      "Carex flava\n",
      "0\n",
      "Pilosella officinarum\n",
      "0\n",
      "Draba verna\n",
      "0\n",
      "Anthoxanthum nipponicum\n",
      "0\n",
      "Sphagnum compactum\n",
      "0\n",
      "Peltigera praetextata\n",
      "0\n",
      "Lathyrus linifolius\n",
      "0\n"
     ]
    }
   ],
   "source": [
    "#Set up a simple while loop to continue downloading until the last #page\n",
    "df = pd.DataFrame()\n",
    "endOfRecords = False\n",
    "offset = 0\n",
    "status = 200\n",
    "# species to check\n",
    "species = utvalg#[5:10]\n",
    "# prefix for the request parameter\n",
    "pre = 'scientificName='\n",
    "\n",
    "for i in species:\n",
    "    print(i)\n",
    "    params = params0.copy()\n",
    "    params.append(pre+i)\n",
    "    while endOfRecords == False and status == 200:\n",
    "        df, endOfRecords, status = get_GBIF_response(base_url, offset, params, df, i = i,maxCount = 100)\n",
    "        endOfRecords = True # kommenterer bort denne når jeg vil begrense antall treff, og ikke ha alt\n",
    "        print(offset)\n",
    "        offset = len(df) + 1\n",
    "    endOfRecords = False\n",
    "    offset = 0\n",
    "    status = 200"
   ]
  },
  {
   "cell_type": "code",
   "execution_count": 316,
   "metadata": {},
   "outputs": [],
   "source": [
    "import geopandas as gpd\n",
    "gdf = gpd.GeoDataFrame(df, geometry=gpd.points_from_xy(df['decimalLongitude'], df['decimalLatitude']))\n",
    "gdf = gdf.query('decimalLongitude > 0 & decimalLatitude > 55 & coordinateUncertaintyInMeters<250')\n"
   ]
  },
  {
   "cell_type": "code",
   "execution_count": 317,
   "metadata": {},
   "outputs": [],
   "source": [
    "gdf = gdf.merge(arter, left_on = 'query', right_on = 'VitNavn')\n",
    "gdf = gdf.sort_values(by = 'KA_Skilletrinn') "
   ]
  },
  {
   "cell_type": "code",
   "execution_count": 318,
   "metadata": {},
   "outputs": [
    {
     "data": {
      "image/png": "[encoded data removed]",
      "text/plain": [
       "<Figure size 1000x1000 with 1 Axes>"
      ]
     },
     "metadata": {},
     "output_type": "display_data"
    }
   ],
   "source": [
    "import geopandas as gpd\n",
    "import matplotlib.pyplot as plt\n",
    "\n",
    "# Assuming you have a GeoDataFrame named 'gdf' with the column 'KA_Skilletrinn'\n",
    "fig, ax = plt.subplots(1, 1, figsize=(10, 10))\n",
    "gdf.plot(column='KA_Skilletrinn', cmap='Blues', legend=True, ax=ax)\n",
    "plt.title('Plot by KA_Skilletrinn')\n",
    "plt.show()\n"
   ]
  }
 ],
 "metadata": {
  "kernelspec": {
   "display_name": "envFjell",
   "language": "python",
   "name": "python3"
  },
  "language_info": {
   "codemirror_mode": {
    "name": "ipython",
    "version": 3
   },
   "file_extension": ".py",
   "mimetype": "text/x-python",
   "name": "python",
   "nbconvert_exporter": "python",
   "pygments_lexer": "ipython3",
   "version": "3.12.8"
  }
 },
 "nbformat": 4,
 "nbformat_minor": 2
}
